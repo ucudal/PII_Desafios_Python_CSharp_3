{
 "cells": [
  {
   "cell_type": "markdown",
   "id": "46dfb674",
   "metadata": {},
   "source": [
    "# Desafíos de programación en C# para desarrolladores Python, toma tres\n",
    "\n",
    "A continuación verás varios ejemplos de código en Python y, debajo, un espacio\n",
    "para que tu puedas escrbir el código equivalente en C#. Para ejecutar el código\n",
    "que has escrito, o el código ya completado que te damos, oprime `Ctrl+Enter`\n",
    "tanto en Mac como en Windows.\n",
    "\n",
    "## Rúbrica corrección\n",
    "\n",
    "La corrección de este ejercicio se hará entre pares usando la siguiente rúbrica:\n",
    "\n",
    "<table>\n",
    "  <tr>\n",
    "    <th width=\"20%\">Ítem a evaluar</th>\n",
    "    <th width=\"20%\">Perfecto</th>\n",
    "    <th width=\"20%\">Bien</th>\n",
    "    <th width=\"20%\">Mejorable</th>\n",
    "    <th width=\"20%\">Mal</th>\n",
    "  </tr>\n",
    "  <tr>\n",
    "    <td>Funciona en C# igual que Python</td>\n",
    "    <td colspan=\"3\">El programa hace lo mismo</td>\n",
    "    <td>El programa no hace lo mismo</td>\n",
    "  </tr>\n",
    "  <tr>\n",
    "    <td>Convenciones en C#</td>\n",
    "    <td>Sigue las convenciones de código</td>\n",
    "    <td colspan=\"2\">Sigue algunas convenciones de código</td>\n",
    "    <td>No sigue las convenciones de código</td>\n",
    "  </tr>\n",
    "  <tr>\n",
    "    <td>Estructuras de control condicional o repetición condicional</td>\n",
    "    <td>La estructura es la más adecuada</td>\n",
    "    <td colspan=\"2\">La estructura fuciona pero no es la más adecuada</td>\n",
    "    <td>La estructura de control no es la adecuada</td>\n",
    "  </tr>\n",
    "</table>"
   ]
  },
  {
   "cell_type": "markdown",
   "id": "85d31534",
   "metadata": {},
   "source": [
    "# Desafío 1: año bisiesto\n",
    "\n",
    "Crear una función que determine si un año es bisiesto o no.\n",
    "\n",
    "## Código Python\n",
    "\n",
    "```python\n",
    "def is_leap(year):\n",
    "    return year % 4 == 0 and (not (year % 100 == 0) or year % 400 == 0)\n",
    "\n",
    "\n",
    "print(\"¿2000 es bisiesto? \", is_leap(2000))\n",
    "```\n",
    "\n",
    "## Código C#\n",
    "\n",
    "Completa a continuación el código equivalente en C#.\n",
    "\n",
    "Ten en cuenta que no es posible tener una funcion en C# si no es como un método\n",
    "de una clase; no es posible tener funciones \"libres\" como es el caso de\n",
    "`is_leap()` de Python. Por eso, el equivalente en C# es el método int\n",
    "`bool IsLeap(int)` de la clase `Functions`. Esa clase `Functions` tiene el único\n",
    "propósito de tener el método `bool IsLeap(int)`.\n",
    "\n",
    "Recuerda oprimir `Ctrl+Enter` para ejecutar el código que has escrito."
   ]
  },
  {
   "cell_type": "code",
   "execution_count": null,
   "metadata": {
    "language_info": {
     "name": "polyglot-notebook"
    },
    "polyglot_notebook": {
     "kernelName": "csharp"
    }
   },
   "outputs": [],
   "source": [
    "Functions myFunctions = new Functions();\n",
    "Console.Write(\"¿2000 es bisiesto? \" + myFunctions.IsLeap(2000));\n",
    "\n",
    "public class Functions\n",
    "{\n",
    "    public bool IsLeap(int year)\n",
    "    {\n",
    "        // Reemplaza esto 👇 por tu código\n",
    "        return false;\n",
    "    }\n",
    "}"
   ]
  },
  {
   "cell_type": "markdown",
   "id": "f801a012",
   "metadata": {},
   "source": [
    "# Desafío 2: n-factorial\n",
    "\n",
    "Calcular el factorial de un número N. Plantear la solución utilizando la\n",
    "estructura `while` y la estructura `for`.\n",
    "\n",
    "## Código Python\n",
    "\n",
    "```python\n",
    "def factorial_for(number):\n",
    "    result = 1\n",
    "    for i in range(1, number + 1):\n",
    "        result = result * i\n",
    "    return result\n",
    "\n",
    "\n",
    "def factorial_while(number):\n",
    "    result = 1\n",
    "    i = 1\n",
    "    while i <= number:\n",
    "        result = result * i\n",
    "        i += 1\n",
    "    return result\n",
    "\n",
    "\n",
    "print(f\"El factorial de 5 es: {factorial_for(5)}\")\n",
    "print(f\"El factorial de 5 es: {factorial_while(5)}\")\n",
    "```\n",
    "\n",
    "## Código C#\n",
    "\n",
    "Completa a continuación el código equivalente en C#.\n",
    "\n",
    "Ten en cuenta lo que ya viste sobre agregar los métodos en la clase `Functions`.\n",
    "\n",
    "Recuerda oprimir `Ctrl+Enter` para ejecutar el código que has escrito."
   ]
  },
  {
   "cell_type": "code",
   "execution_count": null,
   "metadata": {
    "language_info": {
     "name": "polyglot-notebook"
    },
    "polyglot_notebook": {
     "kernelName": "csharp"
    }
   },
   "outputs": [],
   "source": [
    "Functions myFunctions = new Functions();\n",
    "Console.WriteLine($\"El factorial de 5 es: {myFunctions.FactorialFor(5)}\");\n",
    "Console.WriteLine($\"El factorial de 5 es: {myFunctions.FactorialWhile(5)}\");\n",
    "\n",
    "public class Functions\n",
    "{\n",
    "    public int FactorialFor(int number)\n",
    "    {\n",
    "        // Reemplaza esto 👇 por tu código\n",
    "        return 120;\n",
    "    }\n",
    "\n",
    "    public int FactorialWhile(int number)\n",
    "    {\n",
    "        // Reemplaza esto 👇 por tu código\n",
    "        return 120;\n",
    "    }\n",
    "}"
   ]
  },
  {
   "cell_type": "markdown",
   "id": "f9eb8245",
   "metadata": {},
   "source": [
    "# Desafío 3: date format\n",
    "\n",
    "Escribir una función que recibe una cadena de caracteres como parámetro\n",
    "con una fecha de la forma “dd/mm/aaaa” y devuelve la fecha en formato\n",
    "“aaaa­‐mm­‐dd”.\n",
    "Ej.: 10/11/1977 -> 1977­‐11­‐10\n",
    "No se debe utilizar la función split de Python.\n",
    "\n",
    "## Código Python\n",
    "\n",
    "```python\n",
    "def date_format(cadena):\n",
    "    return cadena[6:] + \"-\" + cadena[3:5] + \"-\" + cadena[:2]\n",
    "\n",
    "\n",
    "test_date = \"10/11/1977\"\n",
    "print(\"{} se convierte a: {}\".format(test_date, date_format(test_date)))\n",
    "```\n",
    "\n",
    "## Código C#\n",
    "\n",
    "Completa a continuación el código equivalente en C#.\n",
    "\n",
    "Ten en cuenta lo que ya viste sobre agregar los métodos en la clase `Functions`.\n",
    "\n",
    "Recuerda oprimir `Ctrl+Enter` para ejecutar el código que has escrito."
   ]
  },
  {
   "cell_type": "code",
   "execution_count": null,
   "metadata": {
    "language_info": {
     "name": "polyglot-notebook"
    },
    "polyglot_notebook": {
     "kernelName": "csharp"
    }
   },
   "outputs": [],
   "source": [
    "string testDate = \"10/11/1977\";\n",
    "Functions myFunctions = new Functions();\n",
    "Console.WriteLine(string.Format(\"{0} se convierte a: {1}\", testDate, myFunctions.DateFormat(testDate)));\n",
    "\n",
    "public class Functions\n",
    "{\n",
    "    public string DateFormat(string date)\n",
    "    {\n",
    "        // Reemplaza esto 👇 por tu código\n",
    "        return \"1977-11-10\";\n",
    "    }\n",
    "}"
   ]
  },
  {
   "cell_type": "markdown",
   "id": "072cd824",
   "metadata": {},
   "source": [
    "# Desafío 4: diferencia simétrica\n",
    "\n",
    "Implementar la diferencia simétrica de dos listas. La diferencia simétrica\n",
    "consiste en todos los elementos de la primera lista que no están en la segunda y\n",
    "de todos los elementos de la segunda lista que no están en la primera. Por\n",
    "ejemplo `symdif([1, 2, 3], [3, 4, 5])` devuelve `[1, 2, 4, 5]`. El resultado no\n",
    "debe tener duplicados.\n",
    "\n",
    "## Código Python\n",
    "\n",
    "```python\n",
    "def symdiff(list1, list2):\n",
    "    diferencia = []\n",
    "    for elemento in list1:\n",
    "        if elemento not in list2:\n",
    "            diferencia.append(elemento)\n",
    "    for elemento in list2:\n",
    "        if elemento not in list1:\n",
    "            diferencia.append(elemento)\n",
    "    return diferencia\n",
    "\n",
    "\n",
    "print(symdiff([1, 2, 3], [3, 4, 5]))\n",
    "```\n",
    "\n",
    "## Código C#\n",
    "\n",
    "Completa a continuación el código equivalente en C#.\n",
    "\n",
    "Ten en cuenta lo que ya viste sobre agregar los métodos en la clase `Functions`.\n",
    "\n",
    "Recuerda oprimir `Ctrl+Enter` para ejecutar el código que has escrito."
   ]
  },
  {
   "cell_type": "code",
   "execution_count": null,
   "metadata": {
    "language_info": {
     "name": "polyglot-notebook"
    },
    "polyglot_notebook": {
     "kernelName": "csharp"
    }
   },
   "outputs": [],
   "source": [
    "List<int> list1 = new List<int> { 1, 2, 3 };\n",
    "List<int> list2 = new List<int> { 3, 4, 5 };\n",
    "Functions myFunctions = new Functions();\n",
    "Console.WriteLine($\"[{string.Join(\",\", myFunctions.SymmetricDifference(list1, list2))}]\");\n",
    "\n",
    "public class Functions\n",
    "{\n",
    "    public List<int> SymmetricDifference(List<int> list1, List<int> list2)\n",
    "    {\n",
    "        // Reemplaza esto 👇 por tu código\n",
    "        return new List<int>() { 1, 2, 4, 5 };\n",
    "    }\n",
    "}"
   ]
  },
  {
   "cell_type": "markdown",
   "id": "dccc8b89",
   "metadata": {},
   "source": [
    "# Desafío 5: Convertir decimal\n",
    "\n",
    "Crear una función `convertir_decimal` que reciba una cadena numero y un entero\n",
    "base como parámetros y que devuelva el numero dada la base convertido en\n",
    "decimal. Si numero no es válido según la base entonces devolverá -1.\n",
    " - Se da por entendido que numero será siempre positivo por lo que no deberá validarse.\n",
    " - Se da por entendido que la base será 2 o 16\n",
    "\n",
    "Nota: No se puede utilizar ninguna función matemática de Python que convierta\n",
    "números de cualquier base a decimal, deberá programarse la solución.\n",
    "\n",
    "## Código Python\n",
    "\n",
    "```python\n",
    "def convert_decimal(number, base):\n",
    "    result = 0\n",
    "    while number:\n",
    "        # Obtener valor numerico del digito\n",
    "        digit = \"0123456789ABCDEFGHIJKLMNOPQRSTUVWXYZ\".index(number[0].upper())\n",
    "\n",
    "        # Verificar que el digito sea valido en la base dada\n",
    "        if digit >= base:\n",
    "            return -1\n",
    "\n",
    "        # Calcular valor decimal del digito\n",
    "        result += digit * base ** (len(number) - 1)\n",
    "        number = number[1:]\n",
    "\n",
    "    return result\n",
    "\n",
    "print(convert_decimal(\"11\", 2))\n",
    "print(convert_decimal(\"12\", 2))\n",
    "print(convert_decimal(\"101\", 2))\n",
    "print(convert_decimal(\"A\", 16))\n",
    "print(convert_decimal(\"G\", 16))\n",
    "```\n",
    "\n",
    "Completa a continuación el código equivalente en C#.\n",
    "\n",
    "Ten en cuenta lo que ya viste sobre agregar los métodos en la clase `Functions`.\n",
    "\n",
    "Recuerda oprimir `Ctrl+Enter` para ejecutar el código que has escrito."
   ]
  },
  {
   "cell_type": "code",
   "execution_count": 7,
   "metadata": {
    "language_info": {
     "name": "polyglot-notebook"
    },
    "polyglot_notebook": {
     "kernelName": "csharp"
    }
   },
   "outputs": [
    {
     "name": "stdout",
     "output_type": "stream",
     "text": [
      "0\n",
      "0\n",
      "0\n",
      "0\n",
      "0\n"
     ]
    }
   ],
   "source": [
    "Functions myFunctions = new Functions();\n",
    "Console.WriteLine(myFunctions.ConvertDecimal(\"11\", 2));\n",
    "Console.WriteLine(myFunctions.ConvertDecimal(\"12\", 2));\n",
    "Console.WriteLine(myFunctions.ConvertDecimal(\"101\", 2));\n",
    "Console.WriteLine(myFunctions.ConvertDecimal(\"A\", 16));\n",
    "Console.WriteLine(myFunctions.ConvertDecimal(\"G\", 16));\n",
    "\n",
    "// Implementa en esta clase la función que corresponda\n",
    "public class Functions\n",
    "{\n",
    "    public int ConvertDecimal(string number, int baseNum)\n",
    "    {\n",
    "        // Reemplaza esto 👇 por tu código\n",
    "        return 0;\n",
    "    }\n",
    "}"
   ]
  },
  {
   "cell_type": "markdown",
   "metadata": {
    "language_info": {
     "name": "polyglot-notebook"
    },
    "polyglot_notebook": {
     "kernelName": "csharp"
    }
   },
   "source": [
    "# Desafío 6: palabras\n",
    "\n",
    "Definir una función llamada `buscar_palabras` que busca todas las posiciones en\n",
    "las que aparece una palabra específica dentro de una frase.\n",
    "\n",
    "Por ejemplo, si la frase es `el perro corre y el gato duerme` y la palabra\n",
    "buscada es `el`, el resultado será `[0, 4]`.\n",
    "\n",
    "## Código Python\n",
    "\n",
    "```python\n",
    "def buscar_palabras(frase: str, palabra: str):\n",
    "    palabras = frase.split()\n",
    "    posiciones = []\n",
    "\n",
    "    # Recorrer lista de palabras por texto y posición\n",
    "    for i, p in enumerate(palabras):\n",
    "        if p == palabra:\n",
    "            posiciones.append(i)\n",
    "\n",
    "    return posiciones\n",
    "\n",
    "print(buscar_palabras(\"Hola Mundo\", \"Mundo\"))\n",
    "print(buscar_palabras(\"Hola Mundo\", \"Python\"))\n",
    "print(\n",
    "    buscar_palabras(\"Primero resuelve el problema y luego escribe el código\", \"el\")\n",
    ")\n",
    "```\n",
    "\n",
    "## Código C#\n",
    "\n",
    "Completa a continuación el código equivalente en C#.\n",
    "\n",
    "Ten en cuenta lo que ya viste sobre agregar los métodos en la clase `Functions`.\n",
    "\n",
    "Recuerda oprimir `Ctrl+Enter` para ejecutar el código que has escrito."
   ]
  },
  {
   "cell_type": "code",
   "execution_count": 9,
   "metadata": {
    "language_info": {
     "name": "polyglot-notebook"
    },
    "polyglot_notebook": {
     "kernelName": "csharp"
    }
   },
   "outputs": [
    {
     "name": "stdout",
     "output_type": "stream",
     "text": [
      "Resultado 1: [2, 7]\n",
      "Resultado 2: [2, 7]\n",
      "Resultado 3: [2, 7]\n"
     ]
    }
   ],
   "source": [
    "Functions myFunctions = new Functions();\n",
    "var res1 = myFunctions.BuscarPalabras(\"Hola Mundo\", \"Mundo\");\n",
    "var res2 = myFunctions.BuscarPalabras(\"Hola Mundo\", \"Python\");\n",
    "var res3 = myFunctions.BuscarPalabras(\"Primero resuelve el problema y luego escribe el código\", \"el\");\n",
    "\n",
    "Console.WriteLine($\"Resultado 1: [{string.Join(\", \", res1)}]\");\n",
    "Console.WriteLine($\"Resultado 2: [{string.Join(\", \", res2)}]\");\n",
    "Console.WriteLine($\"Resultado 3: [{string.Join(\", \", res3)}]\");\n",
    "\n",
    "public class Functions\n",
    "{\n",
    "    public List<int> BuscarPalabras(string frase, string palabra)\n",
    "    {\n",
    "        // Reemplaza esto 👇 por tu código\n",
    "        return new List<int>() { 2, 7 };\n",
    "    }\n",
    "}"
   ]
  },
  {
   "cell_type": "markdown",
   "id": "92794dd0",
   "metadata": {},
   "source": [
    "# Desafío 7: tiene bingo\n",
    "\n",
    "Define una función llamada `tiene_bingo` que verifica si todos los números de un\n",
    "cartón de bingo han salido, es decir, están presentes en la lista de números\n",
    "cantados.\n",
    "\n",
    "## Código Python\n",
    "\n",
    "```python\n",
    "def tiene_bingo(carton: list[list[int]], numeros: list[int]):\n",
    "    # Unifico los números del carton en 1 sola lista\n",
    "    numeros_carton = [num for fila in carton for num in fila]\n",
    "\n",
    "    # Recorro esa lista y si alguno no esta en números\n",
    "    # entonces no tiene bingo.\n",
    "    for num in numeros_carton:\n",
    "        if num not in numeros:\n",
    "            return False\n",
    "    # Si están todos, tiene bingo.\n",
    "    return True\n",
    "\n",
    "print(tiene_bingo([[2, 12, 33, 45, 67], [5, 23, 45, 77, 86], [3, 34, 46, 56, 88, 97]], [1, 2, 3, 5, 10, 12, 23, 33, 34, 45, 46, 56, 67, 68, 69, 75, 76, 77, 80, 85, 86, 87, 88, 96, 97]))  # True\n",
    "print(tiene_bingo([[2, 12, 33, 45, 67], [5, 23, 45, 77, 86], [3, 34, 46, 56, 88, 97]], [1, 2, 3, 5, 10, 12, 23, 33, 34, 45, 46, 56, 67, 68, 69, 75, 76, 77, 80, 85, 86, 87, 88, 96]))  # False\n",
    "print(tiene_bingo([[2, 12, 33, 45, 67], [5, 23, 45, 77, 86], [3, 34, 46, 56, 88, 97]], [1, 2, 3, 5, 10, 12, 23, 33, 34, 45, 46, 56, 67, 68, 69, 75, 76, 77, 80, 85, 86, 87, 88, 96, 97]))  # True\n",
    "print(tiene_bingo([[2, 12, 33, 45, 67], [5, 23, 45, 77, 86], [3, 34, 46, 56, 88, 97]], [1, 2, 3, 5, 10, 12, 23, 33, 34, 45, 46, 56, 67, 68, 69, 75, 76, 77, 80, 85, 86, 87, 88, 96]))  # True\n",
    "```\n",
    "\n",
    "## Código C#\n",
    "\n",
    "Completa a continuación el código equivalente en C#.\n",
    "\n",
    "Ten en cuenta lo que ya viste sobre agregar los métodos en la clase `Functions`.\n",
    "\n",
    "Recuerda oprimir `Ctrl+Enter` para ejecutar el código que has escrito."
   ]
  },
  {
   "cell_type": "code",
   "execution_count": 10,
   "metadata": {
    "language_info": {
     "name": "polyglot-notebook"
    },
    "polyglot_notebook": {
     "kernelName": "csharp"
    }
   },
   "outputs": [
    {
     "name": "stdout",
     "output_type": "stream",
     "text": [
      "Resultado 1: True\n",
      "Resultado 2: True\n",
      "Resultado 3: True\n",
      "Resultado 4: True\n"
     ]
    }
   ],
   "source": [
    "Functions myFunctions = new Functions();\n",
    "var carton = new List<List<int>>\n",
    "{\n",
    "    new List<int> { 2, 12, 33, 45, 67 },\n",
    "    new List<int> { 5, 23, 45, 77, 86 },\n",
    "    new List<int> { 3, 34, 46, 56, 88, 97 },\n",
    "};\n",
    "\n",
    "var numerosSorteados1 = new List<int>\n",
    "{\n",
    "    1, 2, 3, 5, 10, 12, 23, 33, 34,\n",
    "    45, 46, 56, 67, 68, 69, 75, 76,\n",
    "    77, 80, 85, 86, 87, 88, 96, 97,\n",
    "};\n",
    "\n",
    "var numerosSorteados2 = new List<int>\n",
    "{\n",
    "    1, 2, 3, 5, 10, 12, 23, 33, 34,\n",
    "    45, 46, 56, 67, 68, 69, 75, 76,\n",
    "    77, 80, 85, 86, 87, 88, 96,\n",
    "};\n",
    "\n",
    "var numerosSorteados3 = new List<int>\n",
    "{\n",
    "    1, 2, 3, 5, 10, 12, 23, 33, 34,\n",
    "    45, 46, 56, 67, 68, 69, 75, 76,\n",
    "    77, 80, 85, 86, 87, 88, 96, 97,\n",
    "};\n",
    "\n",
    "var numerosSorteados4 = new List<int>\n",
    "{\n",
    "    1, 2, 3, 5, 10, 12, 23, 33, 34,\n",
    "    45, 46, 56, 67, 68, 69, 75, 76,\n",
    "    77, 80, 85, 86, 87, 88, 96,\n",
    "};\n",
    "\n",
    "bool resultado1 = myFunctions.TieneBingo(carton, numerosSorteados1);\n",
    "bool resultado2 = myFunctions.TieneBingo(carton, numerosSorteados2);\n",
    "bool resultado3 = myFunctions.TieneBingo(carton, numerosSorteados3);\n",
    "bool resultado4 = myFunctions.TieneBingo(carton, numerosSorteados4);\n",
    "\n",
    "Console.WriteLine($\"Resultado 1: {resultado1}\");  // True\n",
    "Console.WriteLine($\"Resultado 2: {resultado2}\");  // False\n",
    "Console.WriteLine($\"Resultado 3: {resultado3}\");  // True\n",
    "Console.WriteLine($\"Resultado 4: {resultado4}\");  // False\n",
    "\n",
    "public class Functions\n",
    "{\n",
    "    public bool TieneBingo(List<List<int>> carton, List<int> numeros)\n",
    "    {\n",
    "        // Reemplaza esto 👇 por tu código\n",
    "        return true;\n",
    "    }\n",
    "}"
   ]
  }
 ],
 "metadata": {
  "kernelspec": {
   "display_name": ".NET (C#)",
   "language": "C#",
   "name": ".net-csharp"
  },
  "language_info": {
   "codemirror_mode": {
    "name": "ipython",
    "version": 3
   },
   "file_extension": ".py",
   "mimetype": "text/x-python",
   "name": "polyglot-notebook",
   "nbconvert_exporter": "python",
   "pygments_lexer": "ipython3",
   "version": "3.9.6"
  },
  "polyglot_notebook": {
   "kernelInfo": {
    "defaultKernelName": "csharp",
    "items": [
     {
      "aliases": [],
      "languageName": "csharp",
      "name": "csharp"
     }
    ]
   }
  }
 },
 "nbformat": 4,
 "nbformat_minor": 5
}
